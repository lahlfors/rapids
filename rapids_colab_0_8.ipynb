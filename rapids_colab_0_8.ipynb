{
  "nbformat": 4,
  "nbformat_minor": 0,
  "metadata": {
    "colab": {
      "name": "rapids-colab-0.8.ipynb",
      "provenance": [],
      "include_colab_link": true
    },
    "kernelspec": {
      "name": "python3",
      "display_name": "Python 3"
    },
    "accelerator": "GPU"
  },
  "cells": [
    {
      "cell_type": "markdown",
      "metadata": {
        "id": "view-in-github",
        "colab_type": "text"
      },
      "source": [
        "<a href=\"https://colab.research.google.com/github/lahlfors/rapids/blob/master/rapids_colab_0_8.ipynb\" target=\"_parent\"><img src=\"https://colab.research.google.com/assets/colab-badge.svg\" alt=\"Open In Colab\"/></a>"
      ]
    },
    {
      "cell_type": "markdown",
      "metadata": {
        "id": "L3CR--oLtH0J",
        "colab_type": "text"
      },
      "source": [
        "#Setup:\n",
        "\n",
        "1. Use pynvml to confirm Colab allocated you a Tesla T4 GPU.\n",
        "2. Install most recent Miniconda release compatible with Google Colab's Python install  (3.6.7)\n",
        "3. Install RAPIDS libraries\n",
        "4. Copy RAPIDS .so files into current working directory, a workaround for conda/colab interactions\n",
        "5. Update env variables so Python can find and use RAPIDS artifacts\n",
        "\n",
        "All of the above steps are automated in the next cell.\n",
        "\n",
        "You should re-run this cell any time your instance re-starts."
      ]
    },
    {
      "cell_type": "code",
      "metadata": {
        "id": "3EN-u_90tKZW",
        "colab_type": "code",
        "outputId": "348c0a80-91c2-4e56-8a43-65ab5195447e",
        "colab": {
          "base_uri": "https://localhost:8080/",
          "height": 1000
        }
      },
      "source": [
        "!wget -nc https://github.com/rapidsai/notebooks-extended/raw/master/utils/rapids-colab.sh\n",
        "!bash rapids-colab.sh\n",
        "\n",
        "import sys, os\n",
        "\n",
        "sys.path.append('/usr/local/lib/python3.6/site-packages/')\n",
        "os.environ['NUMBAPRO_NVVM'] = '/usr/local/cuda/nvvm/lib64/libnvvm.so'\n",
        "os.environ['NUMBAPRO_LIBDEVICE'] = '/usr/local/cuda/nvvm/libdevice/'"
      ],
      "execution_count": 0,
      "outputs": [
        {
          "output_type": "stream",
          "text": [
            "--2019-07-25 16:09:07--  https://github.com/rapidsai/notebooks-extended/raw/master/utils/rapids-colab.sh\n",
            "Resolving github.com (github.com)... 140.82.113.3\n",
            "Connecting to github.com (github.com)|140.82.113.3|:443... connected.\n",
            "HTTP request sent, awaiting response... 302 Found\n",
            "Location: https://raw.githubusercontent.com/rapidsai/notebooks-extended/master/utils/rapids-colab.sh [following]\n",
            "--2019-07-25 16:09:07--  https://raw.githubusercontent.com/rapidsai/notebooks-extended/master/utils/rapids-colab.sh\n",
            "Resolving raw.githubusercontent.com (raw.githubusercontent.com)... 151.101.0.133, 151.101.64.133, 151.101.128.133, ...\n",
            "Connecting to raw.githubusercontent.com (raw.githubusercontent.com)|151.101.0.133|:443... connected.\n",
            "HTTP request sent, awaiting response... 200 OK\n",
            "Length: 1548 (1.5K) [text/plain]\n",
            "Saving to: ‘rapids-colab.sh’\n",
            "\n",
            "\rrapids-colab.sh       0%[                    ]       0  --.-KB/s               \rrapids-colab.sh     100%[===================>]   1.51K  --.-KB/s    in 0s      \n",
            "\n",
            "2019-07-25 16:09:08 (224 MB/s) - ‘rapids-colab.sh’ saved [1548/1548]\n",
            "\n",
            "--2019-07-25 16:09:08--  https://github.com/rapidsai/notebooks-extended/raw/master/utils/env-check.py\n",
            "Resolving github.com (github.com)... 140.82.113.3\n",
            "Connecting to github.com (github.com)|140.82.113.3|:443... connected.\n",
            "HTTP request sent, awaiting response... 302 Found\n",
            "Location: https://raw.githubusercontent.com/rapidsai/notebooks-extended/master/utils/env-check.py [following]\n",
            "--2019-07-25 16:09:08--  https://raw.githubusercontent.com/rapidsai/notebooks-extended/master/utils/env-check.py\n",
            "Resolving raw.githubusercontent.com (raw.githubusercontent.com)... 151.101.0.133, 151.101.64.133, 151.101.128.133, ...\n",
            "Connecting to raw.githubusercontent.com (raw.githubusercontent.com)|151.101.0.133|:443... connected.\n",
            "HTTP request sent, awaiting response... 200 OK\n",
            "Length: 783 [text/plain]\n",
            "Saving to: ‘env-check.py’\n",
            "\n",
            "env-check.py        100%[===================>]     783  --.-KB/s    in 0s      \n",
            "\n",
            "2019-07-25 16:09:08 (144 MB/s) - ‘env-check.py’ saved [783/783]\n",
            "\n",
            "Checking for GPU type:\n",
            "*********************************************\n",
            "Woo! Your instance has the right kind of GPU!\n",
            "*********************************************\n",
            "\n",
            "Removing conflicting packages, will replace with RAPIDS compatible versions\n",
            "Uninstalling xgboost-0.90:\n",
            "  Successfully uninstalled xgboost-0.90\n",
            "Uninstalling dask-1.1.5:\n",
            "  Successfully uninstalled dask-1.1.5\n",
            "Uninstalling distributed-1.25.3:\n",
            "  Successfully uninstalled distributed-1.25.3\n",
            "Installing conda\n",
            "--2019-07-25 16:09:12--  https://repo.continuum.io/miniconda/Miniconda3-4.5.4-Linux-x86_64.sh\n",
            "Resolving repo.continuum.io (repo.continuum.io)... 104.18.200.79, 104.18.201.79, 2606:4700::6812:c94f, ...\n",
            "Connecting to repo.continuum.io (repo.continuum.io)|104.18.200.79|:443... connected.\n",
            "HTTP request sent, awaiting response... 200 OK\n",
            "Length: 58468498 (56M) [application/x-sh]\n",
            "Saving to: ‘Miniconda3-4.5.4-Linux-x86_64.sh’\n",
            "\n",
            "Miniconda3-4.5.4-Li 100%[===================>]  55.76M   188MB/s    in 0.3s    \n",
            "\n",
            "2019-07-25 16:09:12 (188 MB/s) - ‘Miniconda3-4.5.4-Linux-x86_64.sh’ saved [58468498/58468498]\n",
            "\n",
            "PREFIX=/usr/local\n",
            "installing: python-3.6.5-hc3d631a_2 ...\n",
            "Python 3.6.5 :: Anaconda, Inc.\n",
            "installing: ca-certificates-2018.03.07-0 ...\n",
            "installing: conda-env-2.6.0-h36134e3_1 ...\n",
            "installing: libgcc-ng-7.2.0-hdf63c60_3 ...\n",
            "installing: libstdcxx-ng-7.2.0-hdf63c60_3 ...\n",
            "installing: libffi-3.2.1-hd88cf55_4 ...\n",
            "installing: ncurses-6.1-hf484d3e_0 ...\n",
            "installing: openssl-1.0.2o-h20670df_0 ...\n",
            "installing: tk-8.6.7-hc745277_3 ...\n",
            "installing: xz-5.2.4-h14c3975_4 ...\n",
            "installing: yaml-0.1.7-had09818_2 ...\n",
            "installing: zlib-1.2.11-ha838bed_2 ...\n",
            "installing: libedit-3.1.20170329-h6b74fdf_2 ...\n",
            "installing: readline-7.0-ha6073c6_4 ...\n",
            "installing: sqlite-3.23.1-he433501_0 ...\n",
            "installing: asn1crypto-0.24.0-py36_0 ...\n",
            "installing: certifi-2018.4.16-py36_0 ...\n",
            "installing: chardet-3.0.4-py36h0f667ec_1 ...\n",
            "installing: idna-2.6-py36h82fb2a8_1 ...\n",
            "installing: pycosat-0.6.3-py36h0a5515d_0 ...\n",
            "installing: pycparser-2.18-py36hf9f622e_1 ...\n",
            "installing: pysocks-1.6.8-py36_0 ...\n",
            "installing: ruamel_yaml-0.15.37-py36h14c3975_2 ...\n",
            "installing: six-1.11.0-py36h372c433_1 ...\n",
            "installing: cffi-1.11.5-py36h9745a5d_0 ...\n",
            "installing: setuptools-39.2.0-py36_0 ...\n",
            "installing: cryptography-2.2.2-py36h14c3975_0 ...\n",
            "installing: wheel-0.31.1-py36_0 ...\n",
            "installing: pip-10.0.1-py36_0 ...\n",
            "installing: pyopenssl-18.0.0-py36_0 ...\n",
            "installing: urllib3-1.22-py36hbe7ace6_0 ...\n",
            "installing: requests-2.18.4-py36he2e5f8d_1 ...\n",
            "installing: conda-4.5.4-py36_0 ...\n",
            "installation finished.\n",
            "WARNING:\n",
            "    You currently have a PYTHONPATH environment variable set. This may cause\n",
            "    unexpected behavior when running the Python interpreter in Miniconda3.\n",
            "    For best results, please verify that your PYTHONPATH only points to\n",
            "    directories of packages that are compatible with the Python interpreter\n",
            "    in Miniconda3: /usr/local\n",
            "Installing RAPIDS packages\n",
            "Please standby, this will take a few minutes...\n"
          ],
          "name": "stdout"
        }
      ]
    },
    {
      "cell_type": "markdown",
      "metadata": {
        "id": "8xErLYOxtU4f",
        "colab_type": "text"
      },
      "source": [
        "# RAPIDS Examples #\n",
        "\n",
        "Now you can run code! \n",
        "\n",
        "What follows are basic examples where all processing takes place on the GPU."
      ]
    },
    {
      "cell_type": "markdown",
      "metadata": {
        "id": "HE-am5SntmlE",
        "colab_type": "text"
      },
      "source": [
        "#[cuDF](https://github.com/rapidsai/cudf)#\n",
        "\n",
        "Load a dataset into a GPU memory resident DataFrame and perform a basic calculation.\n",
        "\n",
        "Everything from CSV parsing to calculating tip percentage and computing a grouped average is done on the GPU."
      ]
    },
    {
      "cell_type": "code",
      "metadata": {
        "id": "SQWxtDETtqnY",
        "colab_type": "code",
        "outputId": "4d1af46a-e6aa-4f06-aee5-0e9cb52347d1",
        "colab": {
          "base_uri": "https://localhost:8080/",
          "height": 153
        }
      },
      "source": [
        "import cudf\n",
        "\n",
        "tips_df = cudf.read_csv(\"https://github.com/plotly/datasets/raw/master/tips.csv\")\n",
        "tips_df['tip_percentage'] = tips_df['tip']/tips_df['total_bill']*100\n",
        "\n",
        "# display average tip by dining party size\n",
        "print(tips_df.groupby('size').tip_percentage.mean())"
      ],
      "execution_count": 0,
      "outputs": [
        {
          "output_type": "stream",
          "text": [
            "size\n",
            "1     21.72920154872781\n",
            "2     16.57191917348289\n",
            "3    15.215685473711835\n",
            "4    14.594900639351334\n",
            "5    14.149548965142023\n",
            "6    15.622920072028379\n",
            "Name: tip_percentage, dtype: float64\n"
          ],
          "name": "stdout"
        }
      ]
    },
    {
      "cell_type": "markdown",
      "metadata": {
        "id": "uOkjdCMvtuU0",
        "colab_type": "text"
      },
      "source": [
        "#[cuML](https://github.com/rapidsai/cuml)\n",
        "\n",
        "This snippet does label and one-hot encoding of the tips dataset's categorical features and applies standard scaling to all columns. All operations run on the GPU."
      ]
    },
    {
      "cell_type": "code",
      "metadata": {
        "id": "U3mAVL76CB4l",
        "colab_type": "code",
        "outputId": "eb566fe9-373d-4c92-ee23-5dfda34ec2be",
        "colab": {
          "base_uri": "https://localhost:8080/",
          "height": 204
        }
      },
      "source": [
        "import cuml\n",
        "\n",
        "# label encode the categorical features of the tips dataset\n",
        "for col in ['sex', 'smoker', 'day', 'time']:\n",
        "  le = cuml.preprocessing.LabelEncoder()\n",
        "  tips_df[col] = le.fit_transform(tips_df[col])\n",
        "\n",
        "# day and time are non-binary categorical features, one-hot-encode them\n",
        "tips_df = cudf.get_dummies(tips_df, columns=['day', 'time'])\n",
        "\n",
        "# do standard scaling on all columns\n",
        "for col in tips_df.columns:\n",
        "  tips_df[col] = (tips_df[col] - tips_df[col].mean())/tips_df[col].std()\n",
        "\n",
        "# inspect the results\n",
        "tips_df.head().to_pandas()"
      ],
      "execution_count": 0,
      "outputs": [
        {
          "output_type": "execute_result",
          "data": {
            "text/html": [
              "<div>\n",
              "<style scoped>\n",
              "    .dataframe tbody tr th:only-of-type {\n",
              "        vertical-align: middle;\n",
              "    }\n",
              "\n",
              "    .dataframe tbody tr th {\n",
              "        vertical-align: top;\n",
              "    }\n",
              "\n",
              "    .dataframe thead th {\n",
              "        text-align: right;\n",
              "    }\n",
              "</style>\n",
              "<table border=\"1\" class=\"dataframe\">\n",
              "  <thead>\n",
              "    <tr style=\"text-align: right;\">\n",
              "      <th></th>\n",
              "      <th>total_bill</th>\n",
              "      <th>tip</th>\n",
              "      <th>sex</th>\n",
              "      <th>smoker</th>\n",
              "      <th>size</th>\n",
              "      <th>tip_percentage</th>\n",
              "      <th>day_0</th>\n",
              "      <th>day_1</th>\n",
              "      <th>day_2</th>\n",
              "      <th>day_3</th>\n",
              "      <th>time_0</th>\n",
              "      <th>time_1</th>\n",
              "    </tr>\n",
              "  </thead>\n",
              "  <tbody>\n",
              "    <tr>\n",
              "      <th>0</th>\n",
              "      <td>-0.314066</td>\n",
              "      <td>-1.436993</td>\n",
              "      <td>-1.340598</td>\n",
              "      <td>-0.783179</td>\n",
              "      <td>-0.598961</td>\n",
              "      <td>-1.659607</td>\n",
              "      <td>-0.289997</td>\n",
              "      <td>-0.742879</td>\n",
              "      <td>1.483734</td>\n",
              "      <td>-0.582463</td>\n",
              "      <td>0.620307</td>\n",
              "      <td>-0.620307</td>\n",
              "    </tr>\n",
              "    <tr>\n",
              "      <th>1</th>\n",
              "      <td>-1.061054</td>\n",
              "      <td>-0.967217</td>\n",
              "      <td>0.742879</td>\n",
              "      <td>-0.783179</td>\n",
              "      <td>0.452453</td>\n",
              "      <td>-0.004274</td>\n",
              "      <td>-0.289997</td>\n",
              "      <td>-0.742879</td>\n",
              "      <td>1.483734</td>\n",
              "      <td>-0.582463</td>\n",
              "      <td>0.620307</td>\n",
              "      <td>-0.620307</td>\n",
              "    </tr>\n",
              "    <tr>\n",
              "      <th>2</th>\n",
              "      <td>0.137497</td>\n",
              "      <td>0.362610</td>\n",
              "      <td>0.742879</td>\n",
              "      <td>-0.783179</td>\n",
              "      <td>0.452453</td>\n",
              "      <td>0.094720</td>\n",
              "      <td>-0.289997</td>\n",
              "      <td>-0.742879</td>\n",
              "      <td>1.483734</td>\n",
              "      <td>-0.582463</td>\n",
              "      <td>0.620307</td>\n",
              "      <td>-0.620307</td>\n",
              "    </tr>\n",
              "    <tr>\n",
              "      <th>3</th>\n",
              "      <td>0.437416</td>\n",
              "      <td>0.225291</td>\n",
              "      <td>0.742879</td>\n",
              "      <td>-0.783179</td>\n",
              "      <td>-0.598961</td>\n",
              "      <td>-0.344218</td>\n",
              "      <td>-0.289997</td>\n",
              "      <td>-0.742879</td>\n",
              "      <td>1.483734</td>\n",
              "      <td>-0.582463</td>\n",
              "      <td>0.620307</td>\n",
              "      <td>-0.620307</td>\n",
              "    </tr>\n",
              "    <tr>\n",
              "      <th>4</th>\n",
              "      <td>0.539635</td>\n",
              "      <td>0.442111</td>\n",
              "      <td>-1.340598</td>\n",
              "      <td>-0.783179</td>\n",
              "      <td>1.503867</td>\n",
              "      <td>-0.229154</td>\n",
              "      <td>-0.289997</td>\n",
              "      <td>-0.742879</td>\n",
              "      <td>1.483734</td>\n",
              "      <td>-0.582463</td>\n",
              "      <td>0.620307</td>\n",
              "      <td>-0.620307</td>\n",
              "    </tr>\n",
              "  </tbody>\n",
              "</table>\n",
              "</div>"
            ],
            "text/plain": [
              "   total_bill       tip       sex  ...     day_3    time_0    time_1\n",
              "0   -0.314066 -1.436993 -1.340598  ... -0.582463  0.620307 -0.620307\n",
              "1   -1.061054 -0.967217  0.742879  ... -0.582463  0.620307 -0.620307\n",
              "2    0.137497  0.362610  0.742879  ... -0.582463  0.620307 -0.620307\n",
              "3    0.437416  0.225291  0.742879  ... -0.582463  0.620307 -0.620307\n",
              "4    0.539635  0.442111 -1.340598  ... -0.582463  0.620307 -0.620307\n",
              "\n",
              "[5 rows x 12 columns]"
            ]
          },
          "metadata": {
            "tags": []
          },
          "execution_count": 3
        }
      ]
    },
    {
      "cell_type": "markdown",
      "metadata": {
        "id": "P9AaiYyGEU2i",
        "colab_type": "text"
      },
      "source": [
        "## K-Nearest Neighbors\n",
        "Lastly, create a K-Nearest Neighbors model and find the 5 most similar tippers."
      ]
    },
    {
      "cell_type": "code",
      "metadata": {
        "id": "VKLgolqQ-z_I",
        "colab_type": "code",
        "outputId": "1d6af2ed-4a2c-47b1-d9cc-f684735495fd",
        "colab": {
          "base_uri": "https://localhost:8080/",
          "height": 204
        }
      },
      "source": [
        "# create a KNN model\n",
        "knn = cuml.NearestNeighbors()\n",
        "knn.fit(tips_df)\n",
        "\n",
        "# find 5 nearest neighbors\n",
        "k = 5\n",
        "distances_df, indices_df = knn.kneighbors(tips_df, k)\n",
        "indices_df.head().to_pandas()"
      ],
      "execution_count": 0,
      "outputs": [
        {
          "output_type": "execute_result",
          "data": {
            "text/html": [
              "<div>\n",
              "<style scoped>\n",
              "    .dataframe tbody tr th:only-of-type {\n",
              "        vertical-align: middle;\n",
              "    }\n",
              "\n",
              "    .dataframe tbody tr th {\n",
              "        vertical-align: top;\n",
              "    }\n",
              "\n",
              "    .dataframe thead th {\n",
              "        text-align: right;\n",
              "    }\n",
              "</style>\n",
              "<table border=\"1\" class=\"dataframe\">\n",
              "  <thead>\n",
              "    <tr style=\"text-align: right;\">\n",
              "      <th></th>\n",
              "      <th>0</th>\n",
              "      <th>1</th>\n",
              "      <th>2</th>\n",
              "      <th>3</th>\n",
              "      <th>4</th>\n",
              "    </tr>\n",
              "  </thead>\n",
              "  <tbody>\n",
              "    <tr>\n",
              "      <th>0</th>\n",
              "      <td>0</td>\n",
              "      <td>162</td>\n",
              "      <td>16</td>\n",
              "      <td>12</td>\n",
              "      <td>166</td>\n",
              "    </tr>\n",
              "    <tr>\n",
              "      <th>1</th>\n",
              "      <td>1</td>\n",
              "      <td>53</td>\n",
              "      <td>10</td>\n",
              "      <td>152</td>\n",
              "      <td>151</td>\n",
              "    </tr>\n",
              "    <tr>\n",
              "      <th>2</th>\n",
              "      <td>2</td>\n",
              "      <td>165</td>\n",
              "      <td>152</td>\n",
              "      <td>160</td>\n",
              "      <td>55</td>\n",
              "    </tr>\n",
              "    <tr>\n",
              "      <th>3</th>\n",
              "      <td>3</td>\n",
              "      <td>45</td>\n",
              "      <td>113</td>\n",
              "      <td>49</td>\n",
              "      <td>55</td>\n",
              "    </tr>\n",
              "    <tr>\n",
              "      <th>4</th>\n",
              "      <td>4</td>\n",
              "      <td>157</td>\n",
              "      <td>114</td>\n",
              "      <td>11</td>\n",
              "      <td>52</td>\n",
              "    </tr>\n",
              "  </tbody>\n",
              "</table>\n",
              "</div>"
            ],
            "text/plain": [
              "   0    1    2    3    4\n",
              "0  0  162   16   12  166\n",
              "1  1   53   10  152  151\n",
              "2  2  165  152  160   55\n",
              "3  3   45  113   49   55\n",
              "4  4  157  114   11   52"
            ]
          },
          "metadata": {
            "tags": []
          },
          "execution_count": 4
        }
      ]
    },
    {
      "cell_type": "markdown",
      "metadata": {
        "id": "DPYE_RTHMKBD",
        "colab_type": "text"
      },
      "source": [
        "##Determining Feature Importance with XGBoost\n",
        "\n",
        "Lastly, we can use [XGBoost](https://github.com/dmlc/xgboost)'s GPU accelerated decision trees to determine which features have the greatest impact on tip percentage."
      ]
    },
    {
      "cell_type": "code",
      "metadata": {
        "id": "sjZTA8pRL8Bh",
        "colab_type": "code",
        "outputId": "4eecd173-3a18-4402-b752-d12c01d8750f",
        "colab": {
          "base_uri": "https://localhost:8080/",
          "height": 312
        }
      },
      "source": [
        "import xgboost as xgb\n",
        "\n",
        "params = {\n",
        "  'n_gpus':       1,\n",
        "  'tree_method':  'gpu_hist',\n",
        "  'objective':    'reg:squarederror'\n",
        "}\n",
        "\n",
        "X_feature_names = [\"total_bill\", \"sex\", \"smoker\", \"size\",\n",
        "                   \"day_0\",    \"day_1\",    \"day_2\", \"day_3\",\n",
        "                   \"time_0\",    \"time_1\"]\n",
        "\n",
        "X_train = tips_df[X_feature_names]\n",
        "y_train = cudf.DataFrame({'y': tips_df['tip_percentage']})\n",
        "\n",
        "# Convert to XGBoost's DMatrix format and train the model\n",
        "dmatrix_train = xgb.DMatrix(X_train,\n",
        "                            label=y_train,\n",
        "                            feature_names=X_train.columns)\n",
        "\n",
        "bst = xgb.train(params, dmatrix_train)\n",
        "\n",
        "# See what data is the most important for predicting % tipped\n",
        "xgb.plot_importance(bst)"
      ],
      "execution_count": 0,
      "outputs": [
        {
          "output_type": "execute_result",
          "data": {
            "text/plain": [
              "<matplotlib.axes._subplots.AxesSubplot at 0x7f0fc07670b8>"
            ]
          },
          "metadata": {
            "tags": []
          },
          "execution_count": 5
        },
        {
          "output_type": "display_data",
          "data": {
            "image/png": "[encoded data removed]",
            "text/plain": [
              "<Figure size 432x288 with 1 Axes>"
            ]
          },
          "metadata": {
            "tags": []
          }
        }
      ]
    },
    {
      "cell_type": "markdown",
      "metadata": {
        "id": "HdxlltBFuh65",
        "colab_type": "text"
      },
      "source": [
        "#[cuGraph](https://github.com/rapidsai/cugraph)\n",
        "\n",
        "Like the cuDF snippet above, this code loads a CSV file from a URL, then dives into cugraph to computes the PageRank score for each vertex.  Those scores are then used as weight to compute the Weighted Jaccard Similarity which is used to find the most common nodes in the Epinions dataset."
      ]
    },
    {
      "cell_type": "code",
      "metadata": {
        "id": "iGOXOoCzulnP",
        "colab_type": "code",
        "outputId": "951fb843-14dc-4e21-c6e8-ab53c52c59f1",
        "colab": {
          "base_uri": "https://localhost:8080/",
          "height": 181
        }
      },
      "source": [
        "import cugraph, cudf\n",
        "import gzip, io, requests\n",
        "from collections import OrderedDict\n",
        "\n",
        "# download some data\n",
        "url=\"https://snap.stanford.edu/data/soc-Epinions1.txt.gz\"\n",
        "content = gzip.decompress(requests.get(url).content).decode()\n",
        "\n",
        "cols = [\"src\", \"dst\"]\n",
        "dtypes = OrderedDict([ (\"src\", \"int32\"), (\"dst\", \"int32\")])\n",
        "# read the CSV data from memory buffer\n",
        "gdf = cudf.read_csv(io.StringIO(content), names=cols, delimiter='\\t', dtype=list(dtypes.values()), skiprows=4)\n",
        "\n",
        "# create a Graph \n",
        "G = cugraph.Graph()\n",
        "G.add_edge_list(gdf[\"src\"], gdf[\"dst\"])\n",
        "\n",
        "# Call Pagerank on the graph to get weights to use:\n",
        "pr_df = cugraph.pagerank(G)\n",
        "\n",
        "# find the max page rank value - there could be more than one with the max score\n",
        "pr_max = pr_df['pagerank'].max()\n",
        "\n",
        "pr_filtered = pr_df.query('pagerank >= @pr_max')\n",
        "    \n",
        "for i in range(len(pr_filtered)):\n",
        "    print(\"PageRank: top vertex is \" + str(pr_filtered['vertex'][i]) + \n",
        "        \" with score of \" + str(pr_filtered['pagerank'][i]))  \n",
        "\n",
        "# Call weighted Jaccard using the Pagerank scores as weights:\n",
        "# https://github.com/rapidsai/cugraph/issues/398\n",
        "df = cugraph.jaccard_w(G, pr_df['pagerank'])\n",
        "\n",
        "max_coeff = df['jaccard_coeff'].max()\n",
        "j_gdf = df.query('jaccard_coeff >= @max_coeff')\n",
        "\n",
        "for i in range(len(j_gdf)):\n",
        "    print(\"Weighted Jaccard Similarity: Vertices \" + str(j_gdf['source'][i]) + \n",
        "      \" and \" + str(j_gdf['destination'][i] ) + \n",
        "      \" are most similar with score: \" + str(df['jaccard_coeff'][i]))"
      ],
      "execution_count": 0,
      "outputs": [
        {
          "output_type": "stream",
          "text": [
            "PageRank: top vertex is 18 with score of 0.004534927\n"
          ],
          "name": "stdout"
        },
        {
          "output_type": "error",
          "ename": "AttributeError",
          "evalue": "ignored",
          "traceback": [
            "\u001b[0;31m---------------------------------------------------------------------------\u001b[0m",
            "\u001b[0;31mAttributeError\u001b[0m                            Traceback (most recent call last)",
            "\u001b[0;31mAttributeError\u001b[0m: 'NoneType' object has no attribute '_column'"
          ]
        },
        {
          "output_type": "stream",
          "text": [
            "Weighted Jaccard Similarity: Vertices 12651 and 12647 are most similar with score: 0.15591398\n"
          ],
          "name": "stdout"
        },
        {
          "output_type": "stream",
          "text": [
            "Exception ignored in: 'cugraph.utilities.column_utils.get_gdf_column_view'\n",
            "AttributeError: 'NoneType' object has no attribute '_column'\n"
          ],
          "name": "stderr"
        }
      ]
    },
    {
      "cell_type": "markdown",
      "metadata": {
        "id": "ys95ryXAt2j2",
        "colab_type": "text"
      },
      "source": [
        "# Next Steps #\n",
        "\n",
        "For an overview of how you can access and work with your own datasets in Colab, check out [this guide](https://towardsdatascience.com/3-ways-to-load-csv-files-into-colab-7c14fcbdcb92).\n",
        "\n",
        "For more RAPIDS examples, check out our RAPIDS notebooks repos:\n",
        "1. https://github.com/rapidsai/notebooks\n",
        "2. https://github.com/rapidsai/notebooks-extended"
      ]
    }
  ]
}